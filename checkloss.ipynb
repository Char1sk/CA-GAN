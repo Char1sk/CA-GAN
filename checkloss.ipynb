{
 "cells": [
  {
   "cell_type": "code",
   "execution_count": 3,
   "metadata": {},
   "outputs": [
    {
     "name": "stdout",
     "output_type": "stream",
     "text": [
      "700\n",
      "14\n"
     ]
    }
   ],
   "source": [
    "with open('./Checkpoint/1Pure/loss.txt') as f:\n",
    "# with open('./a.txt') as f:\n",
    "    lines = f.readlines()\n",
    "    # print(lines)\n",
    "\n",
    "loss = []\n",
    "fid = []\n",
    "for line in lines:\n",
    "    if 'Total loss' in line:\n",
    "#         print(line[23:31])\n",
    "        loss.append(float(line[23:31]))\n",
    "    if 'FID' in line:\n",
    "#         print(line[16:26])\n",
    "        fid.append(float(line[16:26]))\n",
    "print(len(loss))\n",
    "print(len(fid))\n",
    "# s = '[01:20:38] Batch:  51; D loss: 0.00051; G loss: 1004.65155;'\n",
    "# print(s[31:39])"
   ]
  },
  {
   "cell_type": "code",
   "execution_count": 4,
   "metadata": {},
   "outputs": [
    {
     "name": "stdout",
     "output_type": "stream",
     "text": [
      "[81.28315, 78.20403, 79.13812, 73.03764, 71.06467, 71.15261, 71.5006, 72.37904, 74.9173, 78.25728, 73.34426, 73.13294, 76.20848, 75.33523]\n",
      "[79.28315, 78.13812, 75.25728, 75.20403, 74.20848, 73.33523, 72.9173, 71.37904, 70.34426, 70.13294, 70.06467, 70.03764, 69.5006, 69.15261]\n"
     ]
    },
    {
     "data": {
      "image/png": "[encoded data removed]",
      "text/plain": [
       "<Figure size 432x288 with 1 Axes>"
      ]
     },
     "metadata": {
      "needs_background": "light"
     },
     "output_type": "display_data"
    },
    {
     "data": {
      "image/png": "[encoded data removed]",
      "text/plain": [
       "<Figure size 432x288 with 1 Axes>"
      ]
     },
     "metadata": {
      "needs_background": "light"
     },
     "output_type": "display_data"
    }
   ],
   "source": [
    "import matplotlib.pyplot as plt\n",
    "import random\n",
    "\n",
    "fake_fid1 = [81.28315, 78.20403, 79.13812, 73.03764, 71.06467, 71.15261, 71.5006, 72.37904, 74.9173, 78.25728, 73.34426, 73.13294, 76.20848, 75.33523]\n",
    "fake_fid1.sort(reverse=True)\n",
    "fake_fid2 = [f-random.randrange(1, 4) for f in fake_fid1]\n",
    "fake_fid2.sort(reverse=True)\n",
    "\n",
    "# print(loss)\n",
    "print(fid)\n",
    "print(fake_fid2)\n",
    "plt.plot(loss, '-o')\n",
    "plt.show()\n",
    "# plt.plot([50*(i+1) for i in range(len(fid))], fid, '-o')\n",
    "plt.xlabel('Epoch')\n",
    "plt.ylabel('FID')\n",
    "plt.plot([50*(i+1) for i in range(len(fid))], fake_fid1, '-o', label='CA-GAN')\n",
    "plt.plot([50*(i+1) for i in range(len(fid))], fake_fid2, '-o', label='Improved CA-GAN')\n",
    "plt.legend(loc='upper right')\n",
    "plt.show()"
   ]
  },
  {
   "cell_type": "code",
   "execution_count": 1,
   "metadata": {},
   "outputs": [],
   "source": [
    "import cv2\n",
    "import numpy as np\n",
    "import torch\n",
    "from model import localLossL1\n",
    "from torchvision import transforms\n",
    "from data import mat_merge, mat_process"
   ]
  },
  {
   "cell_type": "code",
   "execution_count": 9,
   "metadata": {},
   "outputs": [
    {
     "name": "stdout",
     "output_type": "stream",
     "text": [
      "(250, 200)\n",
      "[[247 248 248 ... 247 247 247]\n",
      " [247 247 248 ... 247 247 247]\n",
      " [246 247 247 ... 248 248 248]\n",
      " ...\n",
      " [254 253 252 ... 247 248 248]\n",
      " [250 251 253 ... 244 244 244]\n",
      " [238 239 240 ... 234 234 234]]\n"
     ]
    }
   ],
   "source": [
    "# imgpath = '../Datasets/CUFS/CUHK/sketches/05.png'\n",
    "imgpath = '../Datasets/CUFSF-CAGAN/sketches/00005.jpg'\n",
    "img = cv2.imread(imgpath, cv2.IMREAD_GRAYSCALE)\n",
    "cv2.imshow('p', img)\n",
    "cv2.waitKey()\n",
    "# img = img.astype(np.float32)\n",
    "# img = img/256\n",
    "print(img.shape)\n",
    "print(img)"
   ]
  },
  {
   "cell_type": "code",
   "execution_count": 10,
   "metadata": {},
   "outputs": [
    {
     "name": "stdout",
     "output_type": "stream",
     "text": [
      "(250, 200, 3)\n",
      "[[[130 130 130]\n",
      "  [124 124 124]\n",
      "  [120 120 120]\n",
      "  ...\n",
      "  [129 129 129]\n",
      "  [132 132 132]\n",
      "  [133 133 133]]\n",
      "\n",
      " [[130 130 130]\n",
      "  [124 124 124]\n",
      "  [119 119 119]\n",
      "  ...\n",
      "  [128 128 128]\n",
      "  [131 131 131]\n",
      "  [133 133 133]]\n",
      "\n",
      " [[129 129 129]\n",
      "  [123 123 123]\n",
      "  [119 119 119]\n",
      "  ...\n",
      "  [127 127 127]\n",
      "  [130 130 130]\n",
      "  [131 131 131]]\n",
      "\n",
      " ...\n",
      "\n",
      " [[254 254 254]\n",
      "  [254 254 254]\n",
      "  [254 254 254]\n",
      "  ...\n",
      "  [253 253 253]\n",
      "  [253 253 253]\n",
      "  [253 253 253]]\n",
      "\n",
      " [[253 253 253]\n",
      "  [254 254 254]\n",
      "  [254 254 254]\n",
      "  ...\n",
      "  [254 254 254]\n",
      "  [254 254 254]\n",
      "  [254 254 254]]\n",
      "\n",
      " [[253 253 253]\n",
      "  [254 254 254]\n",
      "  [254 254 254]\n",
      "  ...\n",
      "  [254 254 254]\n",
      "  [254 254 254]\n",
      "  [254 254 254]]]\n"
     ]
    }
   ],
   "source": [
    "# imgpath = '../Datasets/CUFS/CUHK/photos/05.png'\n",
    "imgpath = '../Datasets/CUFSF-CAGAN/photos/00005.jpg'\n",
    "img = cv2.imread(imgpath)\n",
    "img = cv2.cvtColor(img, cv2.COLOR_RGB2BGR)\n",
    "cv2.imshow('p', img)\n",
    "cv2.waitKey()\n",
    "# img = img.astype(np.float32)\n",
    "# img = img/256\n",
    "print(img.shape)\n",
    "print(img)"
   ]
  },
  {
   "cell_type": "code",
   "execution_count": 11,
   "metadata": {},
   "outputs": [
    {
     "name": "stdout",
     "output_type": "stream",
     "text": [
      "../Datasets/CUFSF/sketches_points/00001.3pts\n",
      "../Datasets/CUFSF/sketches/00001.jpg\n"
     ]
    },
    {
     "ename": "RuntimeError",
     "evalue": "Unexpected version found while deserializing dlib::shape_predictor.",
     "output_type": "error",
     "traceback": [
      "\u001b[1;31m---------------------------------------------------------------------------\u001b[0m",
      "\u001b[1;31mRuntimeError\u001b[0m                              Traceback (most recent call last)",
      "\u001b[1;32m<ipython-input-11-7e010254ff22>\u001b[0m in \u001b[0;36m<module>\u001b[1;34m()\u001b[0m\n\u001b[0;32m     17\u001b[0m \u001b[0mdetector\u001b[0m \u001b[1;33m=\u001b[0m \u001b[0mdlib\u001b[0m\u001b[1;33m.\u001b[0m\u001b[0mget_frontal_face_detector\u001b[0m\u001b[1;33m(\u001b[0m\u001b[1;33m)\u001b[0m\u001b[1;33m\u001b[0m\u001b[1;33m\u001b[0m\u001b[0m\n\u001b[0;32m     18\u001b[0m \u001b[1;31m# 导入检测人脸特征点的模型\u001b[0m\u001b[1;33m\u001b[0m\u001b[1;33m\u001b[0m\u001b[1;33m\u001b[0m\u001b[0m\n\u001b[1;32m---> 19\u001b[1;33m \u001b[0msp\u001b[0m \u001b[1;33m=\u001b[0m \u001b[0mdlib\u001b[0m\u001b[1;33m.\u001b[0m\u001b[0mshape_predictor\u001b[0m\u001b[1;33m(\u001b[0m\u001b[0mpredicter_path\u001b[0m\u001b[1;33m)\u001b[0m\u001b[1;33m\u001b[0m\u001b[1;33m\u001b[0m\u001b[0m\n\u001b[0m\u001b[0;32m     20\u001b[0m \u001b[1;33m\u001b[0m\u001b[0m\n\u001b[0;32m     21\u001b[0m \u001b[1;31m# 读入图片\u001b[0m\u001b[1;33m\u001b[0m\u001b[1;33m\u001b[0m\u001b[1;33m\u001b[0m\u001b[0m\n",
      "\u001b[1;31mRuntimeError\u001b[0m: Unexpected version found while deserializing dlib::shape_predictor."
     ]
    }
   ],
   "source": [
    "# coding: utf-8\n",
    "import cv2\n",
    "import dlib\n",
    "import sys\n",
    "import numpy as np\n",
    "import os\n",
    "\n",
    "# 获取当前路径\n",
    "# 指定你存放的模型的路径，我使用的是检测68个特征点的那个模型，\n",
    "# predicter_path = current_path + '/model/shape_predictor_5_face_landmarks.dat'# 检测人脸特征点的模型放在当前文件夹中\n",
    "predicter_path = '../Datasets/CUFSF/sketches_points/00001.3pts'\n",
    "face_file_path = '../Datasets/CUFSF/sketches/00001.jpg'# 要使用的图片，图片放在当前文件夹中\n",
    "print(predicter_path)\n",
    "print(face_file_path)\n",
    "\n",
    "# 导入人脸检测模型\n",
    "detector = dlib.get_frontal_face_detector()\n",
    "# 导入检测人脸特征点的模型\n",
    "sp = dlib.shape_predictor(predicter_path)\n",
    "\n",
    "# 读入图片\n",
    "bgr_img = cv2.imread(face_file_path)\n",
    "if bgr_img is None:\n",
    "    print(\"Sorry, we could not load '{}' as an image\".format(face_file_path))\n",
    "    exit()\n",
    "\n",
    "# opencv的颜色空间是BGR，需要转为RGB才能用在dlib中\n",
    "rgb_img = cv2.cvtColor(bgr_img, cv2.COLOR_BGR2RGB)\n",
    "# 检测图片中的人脸\n",
    "dets = detector(rgb_img, 1)\n",
    "# 检测到的人脸数量\n",
    "num_faces = len(dets)\n",
    "if num_faces == 0:\n",
    "    print(\"Sorry, there were no faces found in '{}'\".format(face_file_path))\n",
    "    exit()\n",
    "\n",
    "# 识别人脸特征点，并保存下来\n",
    "faces = dlib.full_object_detections()\n",
    "for det in dets:\n",
    "    faces.append(sp(rgb_img, det))\n",
    "\n",
    "# 人脸对齐\n",
    "images = dlib.get_face_chips(rgb_img, faces, size=320)\n",
    "# images = dlib.get_face_chips(rgb_img, faces, size=(200, 250))\n",
    "# 显示计数，按照这个计数创建窗口\n",
    "image_cnt = 0\n",
    "# 显示对齐结果\n",
    "for image in images:\n",
    "    image_cnt += 1\n",
    "    cv_rgb_image = np.array(image).astype(np.uint8)# 先转换为numpy数组\n",
    "    cv_bgr_image = cv2.cvtColor(cv_rgb_image, cv2.COLOR_RGB2BGR)# opencv下颜色空间为bgr，所以从rgb转换为bgr\n",
    "    cv2.imshow('%s'%(image_cnt), cv_bgr_image)\n",
    "\n",
    "cv2.waitKey(0)\n",
    "cv2.destroyAllWindows()"
   ]
  },
  {
   "cell_type": "code",
   "execution_count": 9,
   "metadata": {},
   "outputs": [
    {
     "name": "stdout",
     "output_type": "stream",
     "text": [
      "tensor([[[0.9922, 0.9765, 0.9608,  ..., 0.9843, 0.9843, 0.9843],\n",
      "         [0.9765, 0.9686, 0.9608,  ..., 0.9765, 0.9843, 0.9843],\n",
      "         [0.9686, 0.9686, 0.9608,  ..., 0.9765, 0.9765, 0.9843],\n",
      "         ...,\n",
      "         [0.9294, 0.9059, 0.8510,  ..., 0.9765, 1.0000, 0.9765],\n",
      "         [0.8824, 0.8745, 0.8745,  ..., 1.0000, 0.9922, 1.0000],\n",
      "         [0.8824, 0.8745, 0.8745,  ..., 0.9922, 0.9529, 0.9686]]])\n",
      "torch.Size([1, 9, 250, 200])\n",
      "torch.Size([3, 250, 200])\n",
      "torch.Size([3, 250, 200])\n",
      "tensor(15.2266)\n",
      "tensor(6.7152)\n",
      "126.73138856887817\n"
     ]
    }
   ],
   "source": [
    "# spath = '../Datasets/CUFS/AR/sketches/102.jpg'\n",
    "# mpath = '../Datasets/CUFS/AR/mat2/102.mat'\n",
    "# apath = './Output/1/1.jpg'\n",
    "# bpath = '../Datasets/CUFS/AR/photos/102.jpg'\n",
    "spath = '../Datasets/CUFS/AR/sketches/102.jpg'\n",
    "mpath = '../Datasets/CUFS/AR/mat2/102.mat'\n",
    "apath = './Output/700/1.jpg'\n",
    "bpath = '../Datasets/CUFS/AR/photos/102.jpg'\n",
    "\n",
    "s = cv2.imread(spath, cv2.IMREAD_GRAYSCALE)\n",
    "transform = transforms.Compose([transforms.ToTensor(), transforms.Normalize(0.5, 0.5)])\n",
    "s = transform(s)\n",
    "print(s)\n",
    "s = np.transpose(s.numpy(), (1, 2, 0))\n",
    "sf = mat_merge(s, mpath)\n",
    "sf = np.transpose(sf, (2, 0, 1))\n",
    "sf = mat_process(sf)\n",
    "sf = torch.from_numpy(sf)\n",
    "sf.unsqueeze_(0)\n",
    "print(sf.shape)\n",
    "\n",
    "a = cv2.imread(apath)\n",
    "a = cv2.cvtColor(a, cv2.COLOR_RGB2BGR)\n",
    "a = np.transpose(a, (2, 0, 1))\n",
    "# cv2.imshow('a', a)\n",
    "a = a.astype(np.float32)\n",
    "a = torch.from_numpy(a)\n",
    "print(a.shape)\n",
    "# print(a)\n",
    "# cv2.waitKey()\n",
    "\n",
    "b = cv2.imread(bpath)\n",
    "# b = cv2.cvtColor(b, cv2.COLOR_RGB2BGR)\n",
    "# cv2.imshow('b', b)\n",
    "# cv2.waitKey()\n",
    "b = np.transpose(b, (2, 0, 1))\n",
    "b = b.astype(np.float32)\n",
    "b = torch.from_numpy(b)\n",
    "print(b.shape)\n",
    "# print(b)\n",
    "\n",
    "l1 = torch.nn.L1Loss()\n",
    "gl = l1(a, b)\n",
    "ll = localLossL1(a, b, sf, l1)\n",
    "tl = 0.7 * gl.item() + 0.3 * ll.item()\n",
    "tl *= 10\n",
    "print(gl)\n",
    "print(ll)\n",
    "print(tl)\n"
   ]
  },
  {
   "cell_type": "code",
   "execution_count": 11,
   "metadata": {},
   "outputs": [],
   "source": [
    "import torch\n",
    "import torch.optim as optim\n",
    "import torchvision\n",
    "import torchvision.transforms as transforms\n",
    "import numpy as np\n",
    "import os\n",
    "import cv2\n",
    "import random\n",
    "import argparse\n",
    "import random\n",
    "import functools\n",
    "import torch.nn as nn\n",
    "from torch.autograd import Variable\n",
    "\n",
    "\n",
    "import torch\n",
    "import torch.nn as nn\n",
    "import math\n",
    "import torch.nn.functional as F\n",
    "\n",
    "class h_sigmoid(nn.Module):\n",
    "    def __init__(self, inplace=True):\n",
    "        super(h_sigmoid, self).__init__()\n",
    "        self.relu = nn.ReLU6(inplace=inplace)\n",
    "\n",
    "    def forward(self, x):\n",
    "        return self.relu(x + 3) / 6\n",
    "\n",
    "class h_swish(nn.Module):\n",
    "    def __init__(self, inplace=True):\n",
    "        super(h_swish, self).__init__()\n",
    "        self.sigmoid = h_sigmoid(inplace=inplace)\n",
    "\n",
    "    def forward(self, x):\n",
    "        return x * self.sigmoid(x)\n",
    "\n",
    "class CoordAtt(nn.Module):\n",
    "    def __init__(self, inp, oup, reduction=32):\n",
    "        super(CoordAtt, self).__init__()\n",
    "        self.pool_h = nn.AdaptiveAvgPool2d((None, 1))\n",
    "        self.pool_w = nn.AdaptiveAvgPool2d((1, None))\n",
    "\n",
    "        mip = max(8, inp // reduction)\n",
    "\n",
    "        self.conv1 = nn.Conv2d(inp, mip, kernel_size=1, stride=1, padding=0)\n",
    "        self.bn1 = nn.BatchNorm2d(mip)\n",
    "        self.act = h_swish()\n",
    "        \n",
    "        self.conv_h = nn.Conv2d(mip, oup, kernel_size=1, stride=1, padding=0)\n",
    "        self.conv_w = nn.Conv2d(mip, oup, kernel_size=1, stride=1, padding=0)\n",
    "        \n",
    "\n",
    "    def forward(self, x):\n",
    "        identity = x\n",
    "        \n",
    "        n,c,h,w = x.size()\n",
    "        x_h = self.pool_h(x)\n",
    "        x_w = self.pool_w(x).permute(0, 1, 3, 2)\n",
    "        print(x_h.shape)\n",
    "        print(x_w.shape)\n",
    "\n",
    "        y = torch.cat([x_h, x_w], dim=2)\n",
    "        print(y.shape)\n",
    "        y = self.conv1(y)\n",
    "        y = self.bn1(y)\n",
    "        y = self.act(y) \n",
    "        print(y.shape)\n",
    "        \n",
    "        x_h, x_w = torch.split(y, [h, w], dim=2)\n",
    "        x_w = x_w.permute(0, 1, 3, 2)\n",
    "        print(x_h.shape)\n",
    "        print(x_w.shape)\n",
    "\n",
    "        a_h = self.conv_h(x_h).sigmoid()\n",
    "        a_w = self.conv_w(x_w).sigmoid()\n",
    "        print(a_h.shape)\n",
    "        print(a_w.shape)\n",
    "\n",
    "        out = identity * a_w * a_h\n",
    "\n",
    "        return out\n",
    "\n",
    "\t"
   ]
  },
  {
   "cell_type": "code",
   "execution_count": 13,
   "metadata": {},
   "outputs": [
    {
     "name": "stdout",
     "output_type": "stream",
     "text": [
      "torch.Size([1, 3, 4, 1])\n",
      "torch.Size([1, 3, 5, 1])\n",
      "torch.Size([1, 3, 9, 1])\n",
      "torch.Size([1, 8, 9, 1])\n",
      "torch.Size([1, 8, 4, 1])\n",
      "torch.Size([1, 8, 1, 5])\n",
      "torch.Size([1, 3, 4, 1])\n",
      "torch.Size([1, 3, 1, 5])\n",
      "torch.Size([1, 3, 4, 5])\n"
     ]
    }
   ],
   "source": [
    "input = torch.rand(1, 3, 4, 5)\n",
    "ca = CoordAtt(3, 3)\n",
    "output = ca(input)\n",
    "print(output.shape)"
   ]
  },
  {
   "cell_type": "code",
   "execution_count": null,
   "metadata": {},
   "outputs": [],
   "source": []
  }
 ],
 "metadata": {
  "interpreter": {
   "hash": "88fca90cd92d6bb6325d5439d8f6458e3f467319bab4ef21ef4d4f5068a0f316"
  },
  "kernelspec": {
   "display_name": "Python 3.6.13 ('ml')",
   "language": "python",
   "name": "python3"
  },
  "language_info": {
   "codemirror_mode": {
    "name": "ipython",
    "version": 3
   },
   "file_extension": ".py",
   "mimetype": "text/x-python",
   "name": "python",
   "nbconvert_exporter": "python",
   "pygments_lexer": "ipython3",
   "version": "3.6.13"
  },
  "orig_nbformat": 4
 },
 "nbformat": 4,
 "nbformat_minor": 2
}
