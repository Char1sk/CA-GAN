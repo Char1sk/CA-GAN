{
 "cells": [
  {
   "cell_type": "code",
   "execution_count": 10,
   "metadata": {},
   "outputs": [
    {
     "name": "stdout",
     "output_type": "stream",
     "text": [
      "104\n"
     ]
    }
   ],
   "source": [
    "with open('./Checkpoint/loss.txt') as f:\n",
    "    lines = f.readlines()\n",
    "    # print(lines)\n",
    "\n",
    "loss = []\n",
    "for line in lines:\n",
    "    if 'Total loss' in line:\n",
    "        # print(line[24:34])\n",
    "        loss.append(float(line[24:32]))\n",
    "print(len(loss))\n",
    "# s = '[01:20:38] Batch:  51; D loss: 0.00051; G loss: 1004.65155;'\n",
    "# print(s[31:39])"
   ]
  },
  {
   "cell_type": "code",
   "execution_count": 11,
   "metadata": {},
   "outputs": [
    {
     "name": "stdout",
     "output_type": "stream",
     "text": [
      "[10.54274, 11.72698, 11.77592, 11.73978, 11.72146, 11.83733, 11.64991, 11.62373, 11.7092, 11.72652, 11.62117, 11.65978, 11.59487, 11.6782, 11.71235, 11.6189, 11.56833, 11.53976, 11.5848, 11.67091, 11.65748, 11.63437, 11.54633, 11.59781, 11.51526, 11.5865, 11.56125, 11.52981, 11.53958, 11.51548, 11.55811, 11.48187, 11.55156, 11.42645, 11.49436, 11.47919, 11.39564, 11.36832, 11.38409, 11.32506, 11.35308, 11.40413, 11.3845, 11.33503, 11.25674, 11.27512, 11.29276, 11.2157, 11.29931, 11.22007, 11.32106, 11.21806, 11.29342, 11.305, 11.17284, 11.16636, 11.22491, 11.21198, 11.19965, 11.24107, 11.18182, 11.17942, 11.1959, 11.18961, 11.17944, 11.12746, 11.18037, 11.1379, 11.15328, 11.20738, 11.09274, 11.14561, 11.09979, 11.17094, 11.07848, 11.10728, 11.09316, 11.08538, 11.06639, 11.16842, 11.17264, 11.18071, 11.19522, 11.04786, 11.09187, 11.08348, 11.14938, 11.09438, 11.09793, 11.10869, 11.16122, 11.07541, 11.11031, 11.08471, 11.0429, 11.13607, 11.09687, 11.09251, 11.0906, 11.03375, 11.12985, 11.04944, 11.13812, 11.07815]\n"
     ]
    },
    {
     "data": {
      "image/png": "[encoded data removed]",
      "text/plain": [
       "<Figure size 432x288 with 1 Axes>"
      ]
     },
     "metadata": {
      "needs_background": "light"
     },
     "output_type": "display_data"
    }
   ],
   "source": [
    "import matplotlib.pyplot as plt\n",
    "\n",
    "print(loss)\n",
    "plt.plot(loss, '-o')\n",
    "plt.show()"
   ]
  },
  {
   "cell_type": "code",
   "execution_count": 1,
   "metadata": {},
   "outputs": [],
   "source": [
    "import cv2\n",
    "import numpy as np\n",
    "import torch\n",
    "from model import localLossL1\n",
    "from torchvision import transforms\n",
    "from data import mat_merge, mat_process"
   ]
  },
  {
   "cell_type": "code",
   "execution_count": 10,
   "metadata": {},
   "outputs": [
    {
     "name": "stdout",
     "output_type": "stream",
     "text": [
      "(250, 200)\n",
      "[[0.9921875  0.9921875  0.9921875  ... 0.99609375 0.99609375 0.99609375]\n",
      " [0.9921875  0.9921875  0.9921875  ... 0.99609375 0.99609375 0.99609375]\n",
      " [0.9921875  0.9921875  0.9921875  ... 0.99609375 0.99609375 0.99609375]\n",
      " ...\n",
      " [0.96484375 0.96875    0.921875   ... 0.984375   0.85546875 0.77734375]\n",
      " [0.9375     0.83984375 0.49609375 ... 0.76953125 0.76953125 0.89453125]\n",
      " [0.67578125 0.50390625 0.27734375 ... 0.7421875  0.875      0.83203125]]\n"
     ]
    }
   ],
   "source": [
    "imgpath = '../Datasets/CUFS/CUHK/sketches/00.png'\n",
    "img = cv2.imread(imgpath, cv2.IMREAD_GRAYSCALE)\n",
    "img = img.astype(np.float32)\n",
    "img = img/256\n",
    "print(img.shape)\n",
    "print(img)"
   ]
  },
  {
   "cell_type": "code",
   "execution_count": 9,
   "metadata": {},
   "outputs": [
    {
     "name": "stdout",
     "output_type": "stream",
     "text": [
      "(250, 200, 3)\n",
      "[[[114 221 255]\n",
      "  [114 221 255]\n",
      "  [116 220 255]\n",
      "  ...\n",
      "  [125 217 255]\n",
      "  [125 217 255]\n",
      "  [125 217 255]]\n",
      "\n",
      " [[114 221 255]\n",
      "  [114 221 255]\n",
      "  [116 220 255]\n",
      "  ...\n",
      "  [125 217 255]\n",
      "  [125 217 255]\n",
      "  [125 217 255]]\n",
      "\n",
      " [[114 221 255]\n",
      "  [114 221 255]\n",
      "  [116 220 255]\n",
      "  ...\n",
      "  [125 217 255]\n",
      "  [125 217 255]\n",
      "  [125 217 255]]\n",
      "\n",
      " ...\n",
      "\n",
      " [[ 97 164 206]\n",
      "  [ 93 157 195]\n",
      "  [ 84 138 174]\n",
      "  ...\n",
      "  [182 185 192]\n",
      "  [191 190 195]\n",
      "  [181 179 184]]\n",
      "\n",
      " [[ 87 147 184]\n",
      "  [ 58 112 148]\n",
      "  [ 38  83 112]\n",
      "  ...\n",
      "  [207 179 175]\n",
      "  [182 151 146]\n",
      "  [203 168 162]]\n",
      "\n",
      " [[ 32  88 123]\n",
      "  [  9  59  92]\n",
      "  [  1  43  68]\n",
      "  ...\n",
      "  [188 148 136]\n",
      "  [166 118 108]\n",
      "  [175 125 114]]]\n"
     ]
    }
   ],
   "source": [
    "imgpath = '../Datasets/CUFS/CUHK/photos/00.png'\n",
    "img = cv2.imread(imgpath)\n",
    "img = cv2.cvtColor(img, cv2.COLOR_RGB2BGR)\n",
    "# img = img.astype(np.float32)\n",
    "# img = img/256\n",
    "print(img.shape)\n",
    "print(img)"
   ]
  },
  {
   "cell_type": "code",
   "execution_count": 9,
   "metadata": {},
   "outputs": [
    {
     "name": "stdout",
     "output_type": "stream",
     "text": [
      "tensor([[[0.9922, 0.9765, 0.9608,  ..., 0.9843, 0.9843, 0.9843],\n",
      "         [0.9765, 0.9686, 0.9608,  ..., 0.9765, 0.9843, 0.9843],\n",
      "         [0.9686, 0.9686, 0.9608,  ..., 0.9765, 0.9765, 0.9843],\n",
      "         ...,\n",
      "         [0.9294, 0.9059, 0.8510,  ..., 0.9765, 1.0000, 0.9765],\n",
      "         [0.8824, 0.8745, 0.8745,  ..., 1.0000, 0.9922, 1.0000],\n",
      "         [0.8824, 0.8745, 0.8745,  ..., 0.9922, 0.9529, 0.9686]]])\n",
      "torch.Size([1, 9, 250, 200])\n",
      "torch.Size([3, 250, 200])\n",
      "torch.Size([3, 250, 200])\n",
      "tensor(15.2266)\n",
      "tensor(6.7152)\n",
      "126.73138856887817\n"
     ]
    }
   ],
   "source": [
    "# spath = '../Datasets/CUFS/AR/sketches/102.jpg'\n",
    "# mpath = '../Datasets/CUFS/AR/mat2/102.mat'\n",
    "# apath = './Output/1/1.jpg'\n",
    "# bpath = '../Datasets/CUFS/AR/photos/102.jpg'\n",
    "spath = '../Datasets/CUFS/AR/sketches/102.jpg'\n",
    "mpath = '../Datasets/CUFS/AR/mat2/102.mat'\n",
    "apath = './Output/700/1.jpg'\n",
    "bpath = '../Datasets/CUFS/AR/photos/102.jpg'\n",
    "\n",
    "s = cv2.imread(spath, cv2.IMREAD_GRAYSCALE)\n",
    "transform = transforms.Compose([transforms.ToTensor(), transforms.Normalize(0.5, 0.5)])\n",
    "s = transform(s)\n",
    "print(s)\n",
    "s = np.transpose(s.numpy(), (1, 2, 0))\n",
    "sf = mat_merge(s, mpath)\n",
    "sf = np.transpose(sf, (2, 0, 1))\n",
    "sf = mat_process(sf)\n",
    "sf = torch.from_numpy(sf)\n",
    "sf.unsqueeze_(0)\n",
    "print(sf.shape)\n",
    "\n",
    "a = cv2.imread(apath)\n",
    "a = cv2.cvtColor(a, cv2.COLOR_RGB2BGR)\n",
    "a = np.transpose(a, (2, 0, 1))\n",
    "# cv2.imshow('a', a)\n",
    "a = a.astype(np.float32)\n",
    "a = torch.from_numpy(a)\n",
    "print(a.shape)\n",
    "# print(a)\n",
    "# cv2.waitKey()\n",
    "\n",
    "b = cv2.imread(bpath)\n",
    "# b = cv2.cvtColor(b, cv2.COLOR_RGB2BGR)\n",
    "# cv2.imshow('b', b)\n",
    "# cv2.waitKey()\n",
    "b = np.transpose(b, (2, 0, 1))\n",
    "b = b.astype(np.float32)\n",
    "b = torch.from_numpy(b)\n",
    "print(b.shape)\n",
    "# print(b)\n",
    "\n",
    "l1 = torch.nn.L1Loss()\n",
    "gl = l1(a, b)\n",
    "ll = localLossL1(a, b, sf, l1)\n",
    "tl = 0.7 * gl.item() + 0.3 * ll.item()\n",
    "tl *= 10\n",
    "print(gl)\n",
    "print(ll)\n",
    "print(tl)\n"
   ]
  },
  {
   "cell_type": "code",
   "execution_count": null,
   "metadata": {},
   "outputs": [],
   "source": []
  }
 ],
 "metadata": {
  "interpreter": {
   "hash": "88fca90cd92d6bb6325d5439d8f6458e3f467319bab4ef21ef4d4f5068a0f316"
  },
  "kernelspec": {
   "display_name": "Python 3.6.13 ('ml')",
   "language": "python",
   "name": "python3"
  },
  "language_info": {
   "codemirror_mode": {
    "name": "ipython",
    "version": 3
   },
   "file_extension": ".py",
   "mimetype": "text/x-python",
   "name": "python",
   "nbconvert_exporter": "python",
   "pygments_lexer": "ipython3",
   "version": "3.6.13"
  },
  "orig_nbformat": 4
 },
 "nbformat": 4,
 "nbformat_minor": 2
}
